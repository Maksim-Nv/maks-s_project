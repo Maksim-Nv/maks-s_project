{
 "cells": [
  {
   "cell_type": "code",
   "execution_count": 1,
   "metadata": {},
   "outputs": [
    {
     "name": "stdout",
     "output_type": "stream",
     "text": [
      "Средний бал :111\n",
      "Имя             Фамилия    Экзамен              Оценка              \n"
     ]
    }
   ],
   "source": [
    "groupmates = [\n",
    "    {\n",
    "        \"name\": \"Максим\",\n",
    "        \"surname\": \"Максимов\",\n",
    "        \"exams\": [\"Экономика\",\"ИС\",\"АиГ\"],\n",
    "        \"marks\": [4,3,3]\n",
    "    },\n",
    "    \n",
    "    {\n",
    "        \"name\": \"Иван\",\n",
    "        \"surname\": \"Иванов\",\n",
    "        \"exams\": [\"История\",\"ИКТ\",\"Физика\"],\n",
    "        \"marks\": [5,5,5]\n",
    "    },\n",
    "    \n",
    "    {\n",
    "\n",
    "        \"name\": \"Пётр\",\n",
    "        \"surname\": \"Петров\",\n",
    "        \"exams\": [\"История\",\"ЭЭиС\",\"Психология\"],\n",
    "        \"marks\": [4,5,5]\n",
    "    },\n",
    "    \n",
    "    {\n",
    "        \"name\": \"Кирилл\",\n",
    "        \"surname\": \"Кириллов\",\n",
    "        \"exams\": [\"Философия\",\"АиГ\",\"КТП\"],\n",
    "        \"marks\": [4,5,4]\n",
    "    }]\n",
    "\n",
    "def count_mark(students,mark):\n",
    "    print (u\"Имя\".ljust(15), u\"Фамилия\".ljust(10), u\"Экзамен\".ljust(20), u\"Оценка\".ljust(20))\n",
    "    for student in students:\n",
    "        marks_list = student['marks']\n",
    "        result =  (sum(marks_list)/len(marks_list))\n",
    "        if result >= need:\n",
    "            print(student[\"name\"].ljust(15), student[\"surname\"].ljust(8), str(student[\"exams\"]).ljust(8), str(student[\"marks\"]).ljust(20))\n",
    "\n",
    "need = int(input('Средний бал :'))\n",
    "\n",
    "count_mark(groupmates,need)"
   ]
  },
  {
   "cell_type": "code",
   "execution_count": null,
   "metadata": {},
   "outputs": [],
   "source": []
  }
 ],
 "metadata": {
  "kernelspec": {
   "display_name": "Python 3",
   "language": "python",
   "name": "python3"
  },
  "language_info": {
   "codemirror_mode": {
    "name": "ipython",
    "version": 3
   },
   "file_extension": ".py",
   "mimetype": "text/x-python",
   "name": "python",
   "nbconvert_exporter": "python",
   "pygments_lexer": "ipython3",
   "version": "3.8.5"
  }
 },
 "nbformat": 4,
 "nbformat_minor": 4
}
